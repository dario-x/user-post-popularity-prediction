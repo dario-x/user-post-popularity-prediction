{
 "cells": [
  {
   "cell_type": "markdown",
   "id": "a62ffe1a",
   "metadata": {},
   "source": [
    "### Step 0: Load the libraries"
   ]
  },
  {
   "cell_type": "code",
   "execution_count": 7,
   "id": "15b8c27e",
   "metadata": {},
   "outputs": [],
   "source": [
    "# Data manipulation\n",
    "import pandas as pd\n",
    "import numpy as np\n",
    "# loading data from sql\n",
    "import sqlite3\n",
    "# time tracking\n",
    "from tqdm import tqdm"
   ]
  },
  {
   "cell_type": "markdown",
   "id": "8070d8af",
   "metadata": {},
   "source": [
    "### Step 1: Load the data"
   ]
  },
  {
   "cell_type": "code",
   "execution_count": 79,
   "id": "8c2a2896",
   "metadata": {},
   "outputs": [],
   "source": [
    "# Relative path to the SQLite database file\n",
    "database_file = \"./data/corpus.sqlite3\"\n",
    "\n",
    "# Connect to the database\n",
    "conn = sqlite3.connect(database_file)\n",
    "\n",
    "# Load data into a DataFrame\n",
    "df_posts = pd.read_sql_query(\"SELECT * FROM Posts\", conn)\n",
    "\n",
    "# Close the connection\n",
    "conn.close()\n"
   ]
  },
  {
   "cell_type": "markdown",
   "id": "c4c97edc",
   "metadata": {},
   "source": [
    "### Step 2: Filter and preprocess"
   ]
  },
  {
   "cell_type": "code",
   "execution_count": 80,
   "id": "fc80acd3",
   "metadata": {},
   "outputs": [
    {
     "data": {
      "text/html": [
       "<style type=\"text/css\">\n",
       "</style>\n",
       "<table id=\"T_09609_\">\n",
       "  <thead>\n",
       "    <tr>\n",
       "      <th class=\"blank level0\" >&nbsp;</th>\n",
       "      <th class=\"col_heading level0 col0\" >ID_Post</th>\n",
       "      <th class=\"col_heading level0 col1\" >FullText</th>\n",
       "    </tr>\n",
       "  </thead>\n",
       "  <tbody>\n",
       "    <tr>\n",
       "      <th id=\"T_09609_level0_row0\" class=\"row_heading level0 row0\" >0</th>\n",
       "      <td id=\"T_09609_row0_col0\" class=\"data row0 col0\" >1</td>\n",
       "      <td id=\"T_09609_row0_col1\" class=\"data row0 col1\" ></td>\n",
       "    </tr>\n",
       "    <tr>\n",
       "      <th id=\"T_09609_level0_row1\" class=\"row_heading level0 row1\" >1</th>\n",
       "      <td id=\"T_09609_row1_col0\" class=\"data row1 col0\" >2</td>\n",
       "      <td id=\"T_09609_row1_col1\" class=\"data row1 col1\" >Newsletter \"DER STANDARD\" Ich bin begeistert von den STANDARD - Newslettern.\r\n",
       "In keiner anderen E-Zeitung gibt es eine solche Viel=\r\n",
       "falt und so interessante Kommentare bzw. eine so\r\n",
       "genaue Berichterstattung. \r\n",
       "     Macht weiter so, ich finde es jedenfalls toll.\r\n",
       "\r\n",
       "\r\n",
       "                                    Johann Radakovits</td>\n",
       "    </tr>\n",
       "    <tr>\n",
       "      <th id=\"T_09609_level0_row2\" class=\"row_heading level0 row2\" >2</th>\n",
       "      <td id=\"T_09609_row2_col0\" class=\"data row2 col0\" >3</td>\n",
       "      <td id=\"T_09609_row2_col1\" class=\"data row2 col1\" >Auch begeistert... ... Aber momentan funktioniert das Abmelden oder Adressen ändern überhaupt nicht! In USA macht \r\n",
       "man dies auf den Servern einfacher.\r\n",
       "\r\n",
       "Ansonsten ist DER STANDARD ja wirklich das Beste, was es in Österreich gibt...\r\n",
       "Weiter im \"Text\"\r\n",
       ";-)carpeDiem(-;</td>\n",
       "    </tr>\n",
       "    <tr>\n",
       "      <th id=\"T_09609_level0_row3\" class=\"row_heading level0 row3\" >3</th>\n",
       "      <td id=\"T_09609_row3_col0\" class=\"data row3 col0\" >4</td>\n",
       "      <td id=\"T_09609_row3_col1\" class=\"data row3 col1\" >Abmeldeprobleme Es ist ganz einfach nervend!\r\n",
       "Vor kurzem habe ich den news-letter angemeldet in der hoffnungsvollen Gewissheit (weil vertrauenserweckend angekündigt), ihn jederzeit wieder stornieren zu können. Aber leider führt kein Weg dahin. Ich wäre dankbar für eine diesbezügliche Hilfe des Lesers dieser eMail.</td>\n",
       "    </tr>\n",
       "    <tr>\n",
       "      <th id=\"T_09609_level0_row4\" class=\"row_heading level0 row4\" >4</th>\n",
       "      <td id=\"T_09609_row4_col0\" class=\"data row4 col0\" >5</td>\n",
       "      <td id=\"T_09609_row4_col1\" class=\"data row4 col1\" >und sie als mitarbeiter sind natuerlich objektiv</td>\n",
       "    </tr>\n",
       "  </tbody>\n",
       "</table>\n"
      ],
      "text/plain": [
       "<pandas.io.formats.style.Styler at 0x1f002b31970>"
      ]
     },
     "execution_count": 80,
     "metadata": {},
     "output_type": "execute_result"
    }
   ],
   "source": [
    "df_posts.head()\n",
    "\n",
    "df_posts['Headline'] = df_posts['Headline'].fillna('').str.strip()\n",
    "df_posts['Body'] = df_posts['Body'].fillna('').str.strip()\n",
    "df_posts['FullText'] = df_posts['Headline'] + ' ' + df_posts['Body']\n",
    "df_posts['FullText'] = df_posts['FullText'].str.strip()\n",
    "df = df_posts[{'ID_Post', 'FullText'}]\n",
    "df.head().style"
   ]
  },
  {
   "cell_type": "markdown",
   "id": "98d278e2",
   "metadata": {},
   "source": [
    "### Step 3: Load and test the pretrained model"
   ]
  },
  {
   "cell_type": "code",
   "execution_count": 81,
   "id": "5827aa3d",
   "metadata": {},
   "outputs": [
    {
     "name": "stdout",
     "output_type": "stream",
     "text": [
      "(['positive'], [[['positive', 0.9939589500427246], ['negative', 0.005358279217034578], ['neutral', 0.0006827253382652998]]])\n",
      "(['negative'], [[['positive', 0.001920510665513575], ['negative', 0.9980425834655762], ['neutral', 3.68434630217962e-05]]])\n",
      "(['neutral'], [[['positive', 2.1235788153717294e-05], ['negative', 5.393160245148465e-05], ['neutral', 0.9999247789382935]]])\n",
      "Positivity score: 0.9939589500427246\n",
      "Negativty score: 0.005358279217034578\n",
      "Neutral score: 0.0006827253382652998\n"
     ]
    }
   ],
   "source": [
    "#!pip install germansentiment\n",
    "from germansentiment import SentimentModel\n",
    "sentiment_model = SentimentModel()\n",
    "\n",
    "\n",
    "print( sentiment_model.predict_sentiment([\"Mit einem guten Ergebniss\"], output_probabilities =True ))\n",
    "print( sentiment_model.predict_sentiment([\"Du bist hässlich und dumm\"], output_probabilities = True ))\n",
    "print( sentiment_model.predict_sentiment([\"Sie fährt ein grünes Auto.\"], output_probabilities = True ))\n",
    "\n",
    "\n",
    "print(\"Positivity score:\", sentiment_model.predict_sentiment([\"Mit einem guten Ergebniss\"], \n",
    "                                         output_probabilities =True )[1][0][0][1])\n",
    "\n",
    "print(\"Negativty score:\", sentiment_model.predict_sentiment([\"Mit einem guten Ergebniss\"], \n",
    "                                         output_probabilities =True )[1][0][1][1])\n",
    "\n",
    "print(\"Neutral score:\", sentiment_model.predict_sentiment([\"Mit einem guten Ergebniss\"], \n",
    "                                         output_probabilities =True )[1][0][2][1])"
   ]
  },
  {
   "cell_type": "code",
   "execution_count": 82,
   "id": "209aebe9",
   "metadata": {},
   "outputs": [
    {
     "name": "stderr",
     "output_type": "stream",
     "text": [
      "<ipython-input-82-c7c96146e7ab>:2: SettingWithCopyWarning: \n",
      "A value is trying to be set on a copy of a slice from a DataFrame.\n",
      "Try using .loc[row_indexer,col_indexer] = value instead\n",
      "\n",
      "See the caveats in the documentation: https://pandas.pydata.org/pandas-docs/stable/user_guide/indexing.html#returning-a-view-versus-a-copy\n",
      "  df[\"sentiment_score\"] = -999.999\n"
     ]
    }
   ],
   "source": [
    "# Initialize sentiment_score column\n",
    "#df[\"sentiment_score\"] = -999.999 "
   ]
  },
  {
   "cell_type": "markdown",
   "id": "d4c0bec3",
   "metadata": {},
   "source": [
    "### Step 4: Generate the sentiment feature by applying the model on the df"
   ]
  },
  {
   "cell_type": "code",
   "execution_count": 83,
   "id": "caa05e20",
   "metadata": {},
   "outputs": [
    {
     "data": {
      "text/plain": [
       "0.9937969446182251"
      ]
     },
     "execution_count": 83,
     "metadata": {},
     "output_type": "execute_result"
    }
   ],
   "source": [
    "def calculate_scentiment_score(text):\n",
    "    sentiment_result = sentiment_model.predict_sentiment([text], output_probabilities=True)\n",
    "    # Extract probabilities\n",
    "    positive_prob = sentiment_result[1][0][0][1]  # Probability of 'positive'\n",
    "    negative_prob = sentiment_result[1][0][1][1]  # Probability of 'negative'\n",
    "    neutral_prob = sentiment_result[1][0][2][1]  # Probability of 'neutral'\n",
    "\n",
    "    # Determine sentiment score based on probabilities\n",
    "    if sentiment_result[0][0]  == 'positive':\n",
    "        sentiment_score = positive_prob\n",
    "    elif sentiment_result[0][0]  == 'negative':\n",
    "        sentiment_score = (-1) * negative_prob\n",
    "    elif sentiment_result[0][0] == 'neutral':\n",
    "        sentiment_score = 0\n",
    "\n",
    "    return sentiment_score\n",
    "\n",
    "calculate_scentiment_score(\"Mit einem guten Ergebnis\")"
   ]
  },
  {
   "cell_type": "code",
   "execution_count": null,
   "id": "f38ff8de",
   "metadata": {},
   "outputs": [
    {
     "name": "stderr",
     "output_type": "stream",
     "text": [
      "Processing rows:  99%|███████████████████████████████████████████████████████▋| 1005306/1011773 [20:27:46<12:47,  8.42it/s]"
     ]
    }
   ],
   "source": [
    "\n",
    "def generate_sentiment_feature():\n",
    "    \"\"\"Integrate all features into the dataframe based on the full text column.\"\"\"\n",
    "    # Use tqdm to create a progress bar for iterating through the DataFrame\n",
    "    tqdm.pandas(desc=\"Calculating Sentiment Scores\")\n",
    "    \n",
    "    # Apply the sentiment prediction with progress tracking\n",
    "    for index, row in tqdm(df.iterrows(), total=df.shape[0], desc=\"Processing rows\"):\n",
    "        \n",
    "        if row['sentiment_score'] == -999.999:\n",
    "\n",
    "            # Update the sentiment_score for the current record\n",
    "            df.at[index, 'sentiment_score'] = calculate_scentiment_score(row['FullText'])\n",
    "            \n",
    "        else: \n",
    "            continue\n",
    "\n",
    "# Apply feature extraction\n",
    "generate_sentiment_feature()\n"
   ]
  },
  {
   "cell_type": "code",
   "execution_count": 104,
   "id": "8245f6b1",
   "metadata": {},
   "outputs": [
    {
     "data": {
      "text/html": [
       "<style type=\"text/css\">\n",
       "</style>\n",
       "<table id=\"T_5e0ba_\">\n",
       "  <thead>\n",
       "    <tr>\n",
       "      <th class=\"blank level0\" >&nbsp;</th>\n",
       "      <th class=\"col_heading level0 col0\" >ID_Post</th>\n",
       "      <th class=\"col_heading level0 col1\" >FullText</th>\n",
       "      <th class=\"col_heading level0 col2\" >sentiment_score</th>\n",
       "    </tr>\n",
       "  </thead>\n",
       "  <tbody>\n",
       "    <tr>\n",
       "      <th id=\"T_5e0ba_level0_row0\" class=\"row_heading level0 row0\" >0</th>\n",
       "      <td id=\"T_5e0ba_row0_col0\" class=\"data row0 col0\" >1</td>\n",
       "      <td id=\"T_5e0ba_row0_col1\" class=\"data row0 col1\" ></td>\n",
       "      <td id=\"T_5e0ba_row0_col2\" class=\"data row0 col2\" >-0.872363</td>\n",
       "    </tr>\n",
       "    <tr>\n",
       "      <th id=\"T_5e0ba_level0_row1\" class=\"row_heading level0 row1\" >1</th>\n",
       "      <td id=\"T_5e0ba_row1_col0\" class=\"data row1 col0\" >2</td>\n",
       "      <td id=\"T_5e0ba_row1_col1\" class=\"data row1 col1\" >Newsletter \"DER STANDARD\" Ich bin begeistert von den STANDARD - Newslettern.\r\n",
       "In keiner anderen E-Zeitung gibt es eine solche Viel=\r\n",
       "falt und so interessante Kommentare bzw. eine so\r\n",
       "genaue Berichterstattung. \r\n",
       "     Macht weiter so, ich finde es jedenfalls toll.\r\n",
       "\r\n",
       "\r\n",
       "                                    Johann Radakovits</td>\n",
       "      <td id=\"T_5e0ba_row1_col2\" class=\"data row1 col2\" >0.999520</td>\n",
       "    </tr>\n",
       "    <tr>\n",
       "      <th id=\"T_5e0ba_level0_row2\" class=\"row_heading level0 row2\" >2</th>\n",
       "      <td id=\"T_5e0ba_row2_col0\" class=\"data row2 col0\" >3</td>\n",
       "      <td id=\"T_5e0ba_row2_col1\" class=\"data row2 col1\" >Auch begeistert... ... Aber momentan funktioniert das Abmelden oder Adressen ändern überhaupt nicht! In USA macht \r\n",
       "man dies auf den Servern einfacher.\r\n",
       "\r\n",
       "Ansonsten ist DER STANDARD ja wirklich das Beste, was es in Österreich gibt...\r\n",
       "Weiter im \"Text\"\r\n",
       ";-)carpeDiem(-;</td>\n",
       "      <td id=\"T_5e0ba_row2_col2\" class=\"data row2 col2\" >0.944021</td>\n",
       "    </tr>\n",
       "    <tr>\n",
       "      <th id=\"T_5e0ba_level0_row3\" class=\"row_heading level0 row3\" >3</th>\n",
       "      <td id=\"T_5e0ba_row3_col0\" class=\"data row3 col0\" >4</td>\n",
       "      <td id=\"T_5e0ba_row3_col1\" class=\"data row3 col1\" >Abmeldeprobleme Es ist ganz einfach nervend!\r\n",
       "Vor kurzem habe ich den news-letter angemeldet in der hoffnungsvollen Gewissheit (weil vertrauenserweckend angekündigt), ihn jederzeit wieder stornieren zu können. Aber leider führt kein Weg dahin. Ich wäre dankbar für eine diesbezügliche Hilfe des Lesers dieser eMail.</td>\n",
       "      <td id=\"T_5e0ba_row3_col2\" class=\"data row3 col2\" >-0.997048</td>\n",
       "    </tr>\n",
       "    <tr>\n",
       "      <th id=\"T_5e0ba_level0_row4\" class=\"row_heading level0 row4\" >4</th>\n",
       "      <td id=\"T_5e0ba_row4_col0\" class=\"data row4 col0\" >5</td>\n",
       "      <td id=\"T_5e0ba_row4_col1\" class=\"data row4 col1\" >und sie als mitarbeiter sind natuerlich objektiv</td>\n",
       "      <td id=\"T_5e0ba_row4_col2\" class=\"data row4 col2\" >0.000000</td>\n",
       "    </tr>\n",
       "  </tbody>\n",
       "</table>\n"
      ],
      "text/plain": [
       "<pandas.io.formats.style.Styler at 0x1f1156cd730>"
      ]
     },
     "execution_count": 104,
     "metadata": {},
     "output_type": "execute_result"
    }
   ],
   "source": [
    "df.head().style"
   ]
  },
  {
   "cell_type": "markdown",
   "id": "cc5662e9",
   "metadata": {},
   "source": [
    "save the results"
   ]
  },
  {
   "cell_type": "code",
   "execution_count": 105,
   "id": "46dce4f2",
   "metadata": {},
   "outputs": [],
   "source": [
    "df.to_pickle(\"./data/sentiment_dataframe.pkl\")"
   ]
  },
  {
   "cell_type": "code",
   "execution_count": 107,
   "id": "442f194a",
   "metadata": {},
   "outputs": [],
   "source": [
    "df = pd.read_pickle(\"./data/sentiment_dataframe.pkl\")"
   ]
  },
  {
   "cell_type": "code",
   "execution_count": 106,
   "id": "3d9e2127",
   "metadata": {},
   "outputs": [
    {
     "data": {
      "text/html": [
       "<div>\n",
       "<style scoped>\n",
       "    .dataframe tbody tr th:only-of-type {\n",
       "        vertical-align: middle;\n",
       "    }\n",
       "\n",
       "    .dataframe tbody tr th {\n",
       "        vertical-align: top;\n",
       "    }\n",
       "\n",
       "    .dataframe thead th {\n",
       "        text-align: right;\n",
       "    }\n",
       "</style>\n",
       "<table border=\"1\" class=\"dataframe\">\n",
       "  <thead>\n",
       "    <tr style=\"text-align: right;\">\n",
       "      <th></th>\n",
       "      <th>ID_Post</th>\n",
       "      <th>FullText</th>\n",
       "      <th>sentiment_score</th>\n",
       "    </tr>\n",
       "  </thead>\n",
       "  <tbody>\n",
       "    <tr>\n",
       "      <th>0</th>\n",
       "      <td>1</td>\n",
       "      <td></td>\n",
       "      <td>-0.872363</td>\n",
       "    </tr>\n",
       "    <tr>\n",
       "      <th>1</th>\n",
       "      <td>2</td>\n",
       "      <td>Newsletter \"DER STANDARD\" Ich bin begeistert v...</td>\n",
       "      <td>0.999520</td>\n",
       "    </tr>\n",
       "    <tr>\n",
       "      <th>2</th>\n",
       "      <td>3</td>\n",
       "      <td>Auch begeistert... ... Aber momentan funktioni...</td>\n",
       "      <td>0.944021</td>\n",
       "    </tr>\n",
       "    <tr>\n",
       "      <th>3</th>\n",
       "      <td>4</td>\n",
       "      <td>Abmeldeprobleme Es ist ganz einfach nervend!\\r...</td>\n",
       "      <td>-0.997048</td>\n",
       "    </tr>\n",
       "    <tr>\n",
       "      <th>4</th>\n",
       "      <td>5</td>\n",
       "      <td>und sie als mitarbeiter sind natuerlich objektiv</td>\n",
       "      <td>0.000000</td>\n",
       "    </tr>\n",
       "    <tr>\n",
       "      <th>...</th>\n",
       "      <td>...</td>\n",
       "      <td>...</td>\n",
       "      <td>...</td>\n",
       "    </tr>\n",
       "    <tr>\n",
       "      <th>1011768</th>\n",
       "      <td>1011769</td>\n",
       "      <td>zwischen der beendigung eines arbeitsverhältni...</td>\n",
       "      <td>-999.999000</td>\n",
       "    </tr>\n",
       "    <tr>\n",
       "      <th>1011769</th>\n",
       "      <td>1011770</td>\n",
       "      <td>du sagst es ja im namen selbst: wegen eindicku...</td>\n",
       "      <td>-999.999000</td>\n",
       "    </tr>\n",
       "    <tr>\n",
       "      <th>1011770</th>\n",
       "      <td>1011771</td>\n",
       "      <td>Was genau haben Sie denn nicht verstanden? Ich...</td>\n",
       "      <td>-999.999000</td>\n",
       "    </tr>\n",
       "    <tr>\n",
       "      <th>1011771</th>\n",
       "      <td>1011772</td>\n",
       "      <td>irgendwie widersprechen Sie sich in Ihrem Post...</td>\n",
       "      <td>-999.999000</td>\n",
       "    </tr>\n",
       "    <tr>\n",
       "      <th>1011772</th>\n",
       "      <td>1011773</td>\n",
       "      <td>Elisabeth Leopold Ohne sie läuft doch weiterhi...</td>\n",
       "      <td>-999.999000</td>\n",
       "    </tr>\n",
       "  </tbody>\n",
       "</table>\n",
       "<p>1011773 rows × 3 columns</p>\n",
       "</div>"
      ],
      "text/plain": [
       "         ID_Post                                           FullText  \\\n",
       "0              1                                                      \n",
       "1              2  Newsletter \"DER STANDARD\" Ich bin begeistert v...   \n",
       "2              3  Auch begeistert... ... Aber momentan funktioni...   \n",
       "3              4  Abmeldeprobleme Es ist ganz einfach nervend!\\r...   \n",
       "4              5   und sie als mitarbeiter sind natuerlich objektiv   \n",
       "...          ...                                                ...   \n",
       "1011768  1011769  zwischen der beendigung eines arbeitsverhältni...   \n",
       "1011769  1011770  du sagst es ja im namen selbst: wegen eindicku...   \n",
       "1011770  1011771  Was genau haben Sie denn nicht verstanden? Ich...   \n",
       "1011771  1011772  irgendwie widersprechen Sie sich in Ihrem Post...   \n",
       "1011772  1011773  Elisabeth Leopold Ohne sie läuft doch weiterhi...   \n",
       "\n",
       "         sentiment_score  \n",
       "0              -0.872363  \n",
       "1               0.999520  \n",
       "2               0.944021  \n",
       "3              -0.997048  \n",
       "4               0.000000  \n",
       "...                  ...  \n",
       "1011768      -999.999000  \n",
       "1011769      -999.999000  \n",
       "1011770      -999.999000  \n",
       "1011771      -999.999000  \n",
       "1011772      -999.999000  \n",
       "\n",
       "[1011773 rows x 3 columns]"
      ]
     },
     "execution_count": 106,
     "metadata": {},
     "output_type": "execute_result"
    }
   ],
   "source": [
    "df"
   ]
  }
 ],
 "metadata": {
  "kernelspec": {
   "display_name": "Python 3",
   "language": "python",
   "name": "python3"
  },
  "language_info": {
   "codemirror_mode": {
    "name": "ipython",
    "version": 3
   },
   "file_extension": ".py",
   "mimetype": "text/x-python",
   "name": "python",
   "nbconvert_exporter": "python",
   "pygments_lexer": "ipython3",
   "version": "3.8.8"
  }
 },
 "nbformat": 4,
 "nbformat_minor": 5
}
